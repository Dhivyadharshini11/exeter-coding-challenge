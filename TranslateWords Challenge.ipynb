{
 "cells": [
  {
   "cell_type": "code",
   "execution_count": 7,
   "metadata": {},
   "outputs": [],
   "source": [
    "from humanfriendly import format_timespan\n",
    "import time\n",
    "start= time.time()\n",
    "eng=[]\n",
    "fr=[]\n",
    "import csv\n",
    "with open(\"C:\\\\Users\\\\DHIVYADHARSHINI N\\\\Downloads\\\\french_dictionary.csv\") as french:\n",
    "    reader = csv.reader(french, delimiter=\",\")\n",
    "    for i in reader:\n",
    "        eng.append(i[0])\n",
    "        fr.append(i[1])"
   ]
  },
  {
   "cell_type": "code",
   "execution_count": 8,
   "metadata": {},
   "outputs": [],
   "source": [
    "count=[0]*1000\n",
    "output=open(\"C:\\\\Users\\\\DHIVYADHARSHINI N\\\\Downloads\\\\t8.shakespeare.translated.txt\",\"w+\")\n",
    "with open(\"C:\\\\Users\\\\DHIVYADHARSHINI N\\\\Downloads\\\\t8.shakespeare.txt\") as text:\n",
    "    for line in text:\n",
    "        for word in line.split(' '):\n",
    "            if(word!='\\n' and word in eng):\n",
    "                ind=eng.index(word)\n",
    "                output.write(fr[ind]+\" \")\n",
    "                count[ind]+=1\n",
    "            else:\n",
    "                output.write(word+\" \")\n",
    "output.close()"
   ]
  },
  {
   "cell_type": "code",
   "execution_count": 9,
   "metadata": {},
   "outputs": [],
   "source": [
    "csvwriter=open(\"C:\\\\Users\\\\DHIVYADHARSHINI N\\\\Downloads\\\\frequency.csv\",\"w+\")\n",
    "freq=csv.writer(csvwriter)\n",
    "freq.writerow(['English word','French word','Frequency'])\n",
    "for i in range(1000):\n",
    "    if(count[i]!=0):\n",
    "        freq.writerow([eng[i],fr[i],count[i]])\n",
    "csvwriter.close()\n",
    "end=time.time()"
   ]
  },
  {
   "cell_type": "code",
   "execution_count": 10,
   "metadata": {},
   "outputs": [],
   "source": [
    "import os, psutil; \n",
    "str1=\"Time to process: \"+format_timespan(end-start)\n",
    "str2=\"Memory used: \"+str(psutil.Process(os.getpid()).memory_info().rss / 1024 ** 2)+\" MB\"\n",
    "\n",
    "with open(\"C:\\\\Users\\\\DHIVYADHARSHINI N\\\\Downloads\\\\performance.txt\",\"w+\") as per:\n",
    "    per.write(str1+\"\\n\"+str2)"
   ]
  },
  {
   "cell_type": "code",
   "execution_count": null,
   "metadata": {},
   "outputs": [],
   "source": []
  }
 ],
 "metadata": {
  "kernelspec": {
   "display_name": "Python 3",
   "language": "python",
   "name": "python3"
  },
  "language_info": {
   "codemirror_mode": {
    "name": "ipython",
    "version": 3
   },
   "file_extension": ".py",
   "mimetype": "text/x-python",
   "name": "python",
   "nbconvert_exporter": "python",
   "pygments_lexer": "ipython3",
   "version": "3.7.6"
  }
 },
 "nbformat": 4,
 "nbformat_minor": 2
}
